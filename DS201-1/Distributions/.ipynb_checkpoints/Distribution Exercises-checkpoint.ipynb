{
 "cells": [
  {
   "cell_type": "markdown",
   "metadata": {},
   "source": [
    "# Distributions - Exercise"
   ]
  },
  {
   "cell_type": "code",
   "execution_count": 1,
   "metadata": {},
   "outputs": [],
   "source": [
    "import numpy as np\n",
    "import pandas as pd\n",
    "import matplotlib.pyplot as plt"
   ]
  },
  {
   "cell_type": "code",
   "execution_count": 2,
   "metadata": {},
   "outputs": [],
   "source": [
    "%matplotlib inline"
   ]
  },
  {
   "cell_type": "markdown",
   "metadata": {},
   "source": [
    "## Load Seasons Data"
   ]
  },
  {
   "cell_type": "code",
   "execution_count": 3,
   "metadata": {},
   "outputs": [],
   "source": [
    "nba = pd.read_csv(\"./data/season_stats.csv\")"
   ]
  },
  {
   "cell_type": "markdown",
   "metadata": {},
   "source": [
    "## Did Adding the 3-Point Shot to the Game affect the distribution of Total Points Scored?"
   ]
  },
  {
   "cell_type": "markdown",
   "metadata": {},
   "source": [
    "I went ahead and made the new dataframe for everything before 1979, you make the one for everything after."
   ]
  },
  {
   "cell_type": "code",
   "execution_count": 4,
   "metadata": {},
   "outputs": [],
   "source": [
    "no_three_point = nba[nba['Year'] < 1979]\n",
    "three_point = nba[nba['Year'] >= 1979]\n"
   ]
  },
  {
   "cell_type": "markdown",
   "metadata": {},
   "source": [
    "### No 3-Pointer in NBA"
   ]
  },
  {
   "cell_type": "markdown",
   "metadata": {},
   "source": [
    "#### Preliminary Exploration"
   ]
  },
  {
   "cell_type": "code",
   "execution_count": 9,
   "metadata": {},
   "outputs": [
    {
     "data": {
      "text/plain": [
       "0.0       42\n",
       "2.0       37\n",
       "4.0       31\n",
       "7.0       24\n",
       "6.0       23\n",
       "8.0       20\n",
       "12.0      18\n",
       "23.0      17\n",
       "5.0       17\n",
       "10.0      15\n",
       "43.0      15\n",
       "16.0      15\n",
       "21.0      14\n",
       "15.0      14\n",
       "31.0      14\n",
       "20.0      14\n",
       "27.0      14\n",
       "3.0       14\n",
       "11.0      14\n",
       "1.0       14\n",
       "19.0      13\n",
       "13.0      13\n",
       "30.0      13\n",
       "56.0      13\n",
       "14.0      13\n",
       "86.0      13\n",
       "34.0      13\n",
       "26.0      13\n",
       "191.0     12\n",
       "36.0      12\n",
       "          ..\n",
       "1154.0     1\n",
       "699.0      1\n",
       "1791.0     1\n",
       "1282.0     1\n",
       "815.0      1\n",
       "1447.0     1\n",
       "2378.0     1\n",
       "2350.0     1\n",
       "1690.0     1\n",
       "304.0      1\n",
       "1216.0     1\n",
       "78.0       1\n",
       "1849.0     1\n",
       "1632.0     1\n",
       "1472.0     1\n",
       "544.0      1\n",
       "1648.0     1\n",
       "2480.0     1\n",
       "631.0      1\n",
       "1390.0     1\n",
       "1906.0     1\n",
       "623.0      1\n",
       "1961.0     1\n",
       "1175.0     1\n",
       "946.0      1\n",
       "542.0      1\n",
       "994.0      1\n",
       "1942.0     1\n",
       "1002.0     1\n",
       "2190.0     1\n",
       "Name: PTS, Length: 1635, dtype: int64"
      ]
     },
     "execution_count": 9,
     "metadata": {},
     "output_type": "execute_result"
    }
   ],
   "source": [
    "no_three_point[\"PTS\"].value_counts()"
   ]
  },
  {
   "cell_type": "markdown",
   "metadata": {},
   "source": [
    "Describe what the `value_counts()` method does."
   ]
  },
  {
   "cell_type": "code",
   "execution_count": null,
   "metadata": {},
   "outputs": [],
   "source": [
    "#Shows you the unique values in a series and their frequency."
   ]
  },
  {
   "cell_type": "markdown",
   "metadata": {},
   "source": [
    "What is represented by the index?"
   ]
  },
  {
   "cell_type": "code",
   "execution_count": null,
   "metadata": {},
   "outputs": [],
   "source": [
    "#points scored"
   ]
  },
  {
   "cell_type": "markdown",
   "metadata": {},
   "source": [
    "What is represented by the values?"
   ]
  },
  {
   "cell_type": "code",
   "execution_count": null,
   "metadata": {},
   "outputs": [],
   "source": [
    "#number of players"
   ]
  },
  {
   "cell_type": "markdown",
   "metadata": {},
   "source": [
    "#### Visual Exploration"
   ]
  },
  {
   "cell_type": "code",
   "execution_count": 13,
   "metadata": {},
   "outputs": [
    {
     "data": {
      "image/png": "[encoded data removed]",
      "text/plain": [
       "<Figure size 432x288 with 1 Axes>"
      ]
     },
     "metadata": {
      "needs_background": "light"
     },
     "output_type": "display_data"
    }
   ],
   "source": [
    "# use plt.hist() to plot just the PTS column\n",
    "plt.hist(no_three_point[\"PTS\"], bins=50)\n",
    "\n",
    "# Make this look pretty \n",
    "plt.title(\"NBA Pre 3PT Shot Rule\")\n",
    "plt.xlabel(\"Points Scored\")\n",
    "plt.ylabel(\"Number of Players\")\n",
    "\n",
    "# \"print\" the plot\n",
    "plt.show()"
   ]
  },
  {
   "cell_type": "markdown",
   "metadata": {},
   "source": [
    "#### 3-Pointer in NBA"
   ]
  },
  {
   "cell_type": "code",
   "execution_count": 12,
   "metadata": {},
   "outputs": [
    {
     "data": {
      "image/png": "[encoded data removed]",
      "text/plain": [
       "<Figure size 432x288 with 1 Axes>"
      ]
     },
     "metadata": {
      "needs_background": "light"
     },
     "output_type": "display_data"
    }
   ],
   "source": [
    "# use plt.hist() to plot just the FG column\n",
    "plt.hist(three_point['PTS'], bins=50)\n",
    "\n",
    "# Make this look pretty \n",
    "plt.title(\"NBA Post 3-PT Rule\")\n",
    "plt.xlabel(\"Points Scored\")\n",
    "plt.ylabel(\"Number of Players\")\n",
    "\n",
    "# \"print\" the plot\n",
    "plt.show()"
   ]
  },
  {
   "cell_type": "markdown",
   "metadata": {},
   "source": [
    "Using only the data from the Histograms... What can we say about the distribution of Field Goals scored —before and after the 3 point shot was added to the rules?"
   ]
  },
  {
   "cell_type": "code",
   "execution_count": null,
   "metadata": {},
   "outputs": [],
   "source": [
    "#More players, fewer incidents of high point totals."
   ]
  }
 ],
 "metadata": {
  "kernelspec": {
   "display_name": "Python 3",
   "language": "python",
   "name": "python3"
  },
  "language_info": {
   "codemirror_mode": {
    "name": "ipython",
    "version": 3
   },
   "file_extension": ".py",
   "mimetype": "text/x-python",
   "name": "python",
   "nbconvert_exporter": "python",
   "pygments_lexer": "ipython3",
   "version": "3.7.1"
  }
 },
 "nbformat": 4,
 "nbformat_minor": 2
}
